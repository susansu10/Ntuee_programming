{
 "cells": [
  {
   "cell_type": "markdown",
   "metadata": {},
   "source": [
    "# Week16 Caculator with PyQt5"
   ]
  },
  {
   "cell_type": "markdown",
   "metadata": {},
   "source": [
    "# Tasks\n",
    "利用 PyQt5 完成加減乘除法計算"
   ]
  },
  {
   "cell_type": "code",
   "execution_count": null,
   "metadata": {},
   "outputs": [],
   "source": [
    "pip install PyQt5"
   ]
  },
  {
   "attachments": {
    "image-2.png": {
     "image/png": "[encoded data removed]"
    }
   },
   "cell_type": "markdown",
   "metadata": {},
   "source": [
    "![image-2.png](attachment:image-2.png)\n",
    "\n",
    "以下範例為加法計算機，仍需實作其餘功能，請利用以下 code 進行修改 :\n",
    "1. 要有加法 button / 減法 button / 乘法 button / 除法 button\n",
    "2. 輸入好兩個數字時，必須選擇其中一個加法/減法/乘法/除法 button,按下開始計算 button 進行計算"
   ]
  },
  {
   "cell_type": "code",
   "execution_count": null,
   "metadata": {},
   "outputs": [],
   "source": [
    "import sys\n",
    "from PyQt5.QtWidgets import QApplication, QWidget, QLabel, QLineEdit, QPushButton, QVBoxLayout\n",
    "\n",
    "class Caculator(QWidget):\n",
    "    def __init__(self):\n",
    "        super().__init__()\n",
    "        \n",
    "        self.init_ui()\n",
    "\n",
    "    def init_ui(self):\n",
    "        self.setWindowTitle('加法運算')\n",
    "        self.setGeometry(100, 100, 400, 200)\n",
    "\n",
    "        self.num1_input = QLineEdit(self)\n",
    "        self.num2_input = QLineEdit(self)\n",
    "        self.result_label = QLabel('結果：', self)\n",
    "        self.add_button = QPushButton('加法', self)\n",
    "        self.calculate_button = QPushButton('開始計算', self)\n",
    "\n",
    "        layout = QVBoxLayout()\n",
    "        layout.addWidget(self.num1_input)\n",
    "        layout.addWidget(self.num2_input)\n",
    "        layout.addWidget(self.add_button)\n",
    "        layout.addWidget(self.result_label)\n",
    "        layout.addWidget(self.calculate_button)\n",
    "\n",
    "        self.setLayout(layout)\n",
    "\n",
    "        self.add_button.clicked.connect(self.set_operation_add)\n",
    "        self.calculate_button.clicked.connect(self.calculate_result)\n",
    "        \n",
    "        self.operation = None\n",
    "\n",
    "    def set_operation_add(self):\n",
    "        self.operation = 'add'\n",
    "        \n",
    "    def calculate_result(self):\n",
    "        num1 = int(self.num1_input.text())\n",
    "        num2 = int(self.num2_input.text())\n",
    "        \n",
    "        if self.operation == 'add':\n",
    "            result = num1 + num2\n",
    "        else :\n",
    "            result = 0\n",
    "            \n",
    "        self.result_label.setText(f'結果：{result}')\n",
    "        \n",
    "        self.operation = None\n",
    "\n",
    "if __name__ == '__main__':\n",
    "    app = QApplication(sys.argv)\n",
    "    window = Caculator()\n",
    "    window.show()\n",
    "    sys.exit(app.exec_())\n"
   ]
  },
  {
   "attachments": {
    "image.png": {
     "image/png": "[encoded data removed]"
    }
   },
   "cell_type": "markdown",
   "metadata": {},
   "source": [
    "Demo 範例畫面\n",
    "![image.png](attachment:image.png)"
   ]
  },
  {
   "cell_type": "markdown",
   "metadata": {},
   "source": [
    "完成後須給助教檢查，並錄製 Demo.mp4，要包含測試加減乘除運算"
   ]
  }
 ],
 "metadata": {
  "kernelspec": {
   "display_name": "Python 3 (ipykernel)",
   "language": "python",
   "name": "python3"
  },
  "language_info": {
   "codemirror_mode": {
    "name": "ipython",
    "version": 3
   },
   "file_extension": ".py",
   "mimetype": "text/x-python",
   "name": "python",
   "nbconvert_exporter": "python",
   "pygments_lexer": "ipython3",
   "version": "3.11.4"
  },
  "toc": {
   "base_numbering": 1,
   "nav_menu": {},
   "number_sections": true,
   "sideBar": true,
   "skip_h1_title": false,
   "title_cell": "Table of Contents",
   "title_sidebar": "Contents",
   "toc_cell": false,
   "toc_position": {},
   "toc_section_display": true,
   "toc_window_display": false
  },
  "varInspector": {
   "cols": {
    "lenName": 16,
    "lenType": 16,
    "lenVar": 40
   },
   "kernels_config": {
    "python": {
     "delete_cmd_postfix": "",
     "delete_cmd_prefix": "del ",
     "library": "var_list.py",
     "varRefreshCmd": "print(var_dic_list())"
    },
    "r": {
     "delete_cmd_postfix": ") ",
     "delete_cmd_prefix": "rm(",
     "library": "var_list.r",
     "varRefreshCmd": "cat(var_dic_list()) "
    }
   },
   "types_to_exclude": [
    "module",
    "function",
    "builtin_function_or_method",
    "instance",
    "_Feature"
   ],
   "window_display": false
  }
 },
 "nbformat": 4,
 "nbformat_minor": 4
}
