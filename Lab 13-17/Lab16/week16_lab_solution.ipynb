{
 "cells": [
  {
   "cell_type": "markdown",
   "id": "70a237b0",
   "metadata": {},
   "source": [
    "# Week16 PyQt5 with chatgpt & copilot"
   ]
  },
  {
   "cell_type": "markdown",
   "id": "3811387a",
   "metadata": {},
   "source": [
    "# Tasks\n",
    "利用 PyQt5 完成加減法計算"
   ]
  },
  {
   "cell_type": "code",
   "execution_count": 1,
   "id": "2d2eb2b0",
   "metadata": {},
   "outputs": [
    {
     "ename": "SystemExit",
     "evalue": "0",
     "output_type": "error",
     "traceback": [
      "An exception has occurred, use %tb to see the full traceback.\n",
      "\u001b[1;31mSystemExit\u001b[0m\u001b[1;31m:\u001b[0m 0\n"
     ]
    },
    {
     "name": "stderr",
     "output_type": "stream",
     "text": [
      "D:\\anaconda\\lib\\site-packages\\IPython\\core\\interactiveshell.py:3377: UserWarning: To exit: use 'exit', 'quit', or Ctrl-D.\n",
      "  warn(\"To exit: use 'exit', 'quit', or Ctrl-D.\", stacklevel=1)\n"
     ]
    }
   ],
   "source": [
    "import sys\n",
    "from PyQt5.QtWidgets import QApplication, QWidget, QLabel, QLineEdit, QPushButton, QVBoxLayout\n",
    "\n",
    "class Calculator(QWidget):\n",
    "    def __init__(self):\n",
    "        super().__init__()\n",
    "        self.init_ui()\n",
    "\n",
    "    def init_ui(self):\n",
    "        self.setWindowTitle('加減法運算')\n",
    "        self.setGeometry(100, 100, 400, 200)\n",
    "\n",
    "        self.num1_input = QLineEdit(self)\n",
    "        self.num2_input = QLineEdit(self)\n",
    "        self.result_label = QLabel('結果：', self)\n",
    "        self.add_button = QPushButton('加法', self)\n",
    "        self.subtract_button = QPushButton('減法', self)\n",
    "        self.calculate_button = QPushButton('開始計算', self)\n",
    "\n",
    "        layout = QVBoxLayout()\n",
    "        layout.addWidget(self.num1_input)\n",
    "        layout.addWidget(self.num2_input)\n",
    "        layout.addWidget(self.add_button)\n",
    "        layout.addWidget(self.subtract_button)\n",
    "        layout.addWidget(self.result_label)\n",
    "        layout.addWidget(self.calculate_button)\n",
    "\n",
    "        self.setLayout(layout)\n",
    "\n",
    "        self.add_button.clicked.connect(self.set_operation_add)\n",
    "        self.subtract_button.clicked.connect(self.set_operation_subtract)\n",
    "        self.calculate_button.clicked.connect(self.calculate_result)\n",
    "\n",
    "        self.operation = None\n",
    "\n",
    "    def set_operation_add(self):\n",
    "        self.operation = 'add'\n",
    "        \n",
    "    def set_operation_subtract(self):\n",
    "        self.operation = 'subtract'\n",
    "\n",
    "    def calculate_result(self):\n",
    "        num1 = int(self.num1_input.text())\n",
    "        num2 = int(self.num2_input.text())\n",
    "\n",
    "        if self.operation == 'add':\n",
    "            result = num1 + num2\n",
    "        elif self.operation == 'subtract':\n",
    "            result = num1 - num2\n",
    "        else:\n",
    "            result = 0\n",
    "\n",
    "        self.result_label.setText(f'結果：{result}')\n",
    "\n",
    "if __name__ == '__main__':\n",
    "    app = QApplication(sys.argv)\n",
    "    window = Calculator()\n",
    "    window.show()\n",
    "    sys.exit(app.exec_())\n"
   ]
  },
  {
   "cell_type": "code",
   "execution_count": null,
   "id": "c126e989",
   "metadata": {},
   "outputs": [],
   "source": []
  }
 ],
 "metadata": {
  "kernelspec": {
   "display_name": "Python 3 (ipykernel)",
   "language": "python",
   "name": "python3"
  },
  "language_info": {
   "codemirror_mode": {
    "name": "ipython",
    "version": 3
   },
   "file_extension": ".py",
   "mimetype": "text/x-python",
   "name": "python",
   "nbconvert_exporter": "python",
   "pygments_lexer": "ipython3",
   "version": "3.9.12"
  }
 },
 "nbformat": 4,
 "nbformat_minor": 5
}
