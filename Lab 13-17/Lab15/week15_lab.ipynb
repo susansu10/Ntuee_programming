{
 "cells": [
  {
   "cell_type": "markdown",
   "metadata": {},
   "source": [
    "# Week15 network programming (2)\n",
    "* Mini chatroom"
   ]
  },
  {
   "cell_type": "markdown",
   "metadata": {},
   "source": [
    "## Introduction\n",
    "In the class, we learned the basic concepts of websocket and the basic usage of websocket.  \n",
    "In this lab, we are going to implement a simple chatroom that can receive and send messages between between clients.\n",
    "\n",
    "Our chatroom contain two prat: server and client  \n",
    "The server is able to be connected by clients(not only one), so you must use thread to deal with this situation.  \n",
    "The client must be able to connect with the server according to the set ip and port.  \n",
    "\n",
    "<img src=https://i.imgur.com/A2ZhavT.png width=300px>\n",
    "\n",
    "Once the connection is established, the client must be able to read the string and send it to the server.  \n",
    "Once the server receives the message from the client, it will broadcast the message to other connected clients. \n",
    "<div style=\"width:600px; margin:0 auto;\">\n",
    "  <img style=\"width:50%; height:auto; display:inline-block;margin-left:-4px;\" src=\"https://i.imgur.com/we44xG3.png\">\n",
    "  <img style=\"width:50%;height:auto;display:inline-block;margin-left:-0px;\" src=\"https://i.imgur.com/oXOKoGV.png\">\n",
    "</div>"
   ]
  },
  {
   "cell_type": "markdown",
   "metadata": {},
   "source": [
    "## Demo\n",
    "<img src=demo.gif width=600px>"
   ]
  },
  {
   "cell_type": "markdown",
   "metadata": {},
   "source": [
    "## Server\n",
    "Once you finish this part, you have to create **`chatserver.py`** and copy following content in this file.  "
   ]
  },
  {
   "cell_type": "code",
   "execution_count": null,
   "metadata": {},
   "outputs": [],
   "source": [
    "import socket \n",
    "import select \n",
    "import sys \n",
    "from threading import *\n",
    "import argparse\n",
    "\n",
    "class chatRoom:\n",
    "\tdef __init__(self, args):\n",
    "        # TODO finish following variables\n",
    "        # sever listens for 100 active connections\n",
    "\t\t#self.server\n",
    "\t\t#self.ip\n",
    "\t\t#self.port\n",
    "\t\t#self.name\n",
    "\t\t#self.list_of_clients\n",
    "\n",
    "\tdef client_thread(self, conn, addr): \n",
    "\t\t# sends a message to the client whose user object is connected(conn)\n",
    "\t\twhile True:\n",
    "\t\t\tconn.send(f\"\\033[95mWelcome to {self.name}!\\033[0m\".encode()) \n",
    "\t\t\tmessage = str(conn.recv(2048), encoding='utf-8')\n",
    "\t\t\tif message: \n",
    "\t\t\t\t# Display the received message and address of the source user\n",
    "\t\t\t\tmessage_to_send = (\"\\033[94m<\" + addr[0] + \"> : \\033[0m\" + message).strip('\\n')\n",
    "\t\t\t\tprint(message_to_send)\n",
    "\t\t\t\t# Calls broadcast function to send message to all \n",
    "\t\t\t\tself.broadcast(message_to_send, conn) \n",
    "\n",
    "\t\t\telse: \n",
    "\t\t\t\t# message may have no content if the connection is broken\n",
    "\t\t\t\t# In this case we remove the connection\t\t\t\t\n",
    "\t\t\t\tmessage_to_send = (\"\\033[91m<\" + addr[0] + \"> disconnected!\\033[0m\").strip('\\n')\n",
    "\t\t\t\tprint(message_to_send)\n",
    "\t\t\t\tself.broadcast(message_to_send, conn) \n",
    "\t\t\t\tself.remove(conn) \n",
    "\t\t\t\tconn.close()\n",
    "\t\t\t\tbreak\n",
    "\n",
    "\tdef broadcast(self, message, connection):\n",
    "\t\t\"\"\"Broadcast the message to all clients who's object is not the same as the one sending the message \"\"\"\n",
    "\t\t# TODO\n",
    "\n",
    "\tdef remove(self, connection): \n",
    "\t\t\"\"\"Removes the object from the list that was created at the beginning of the program\"\"\"\n",
    "\t\t# TODO\n",
    "\n",
    "\tdef run(self):\n",
    "\t\twhile True: \n",
    "\t\t\ttry: \n",
    "\t\t\t\t\"\"\"Accepts a connection request and stores two parameters, \n",
    "\t\t\t\tconn which is a socket object for that user, and addr \n",
    "\t\t\t\twhich contains the IP address of the client that just \n",
    "\t\t\t\tconnected\"\"\"\n",
    "\t\t\t\t#TODO\n",
    "\n",
    "\t\t\t\t\"\"\"Maintains a list of clients for ease of broadcasting \n",
    "\t\t\t\ta message to all available people in the chatroom\"\"\"\n",
    "\t\t\t\t# TODO\n",
    "\n",
    "\t\t\t\t# prints the address of the user that just connected \n",
    "\t\t\t\tprint(addr[0] + \" connected\")\n",
    "\n",
    "\t\t\t\t# creates and individual thread for every user that connects \n",
    "\t\t\t\t# TODO\n",
    "                \n",
    "\t\t\texcept KeyboardInterrupt:\n",
    "\t\t\t\tbreak\n",
    "\t\ttry:\n",
    "\t\t\tconn.close() \n",
    "\t\t\tserver.close()\n",
    "\t\texcept:\n",
    "\t\t\tpass\n",
    "\n",
    "if __name__ ==  \"__main__\":\n",
    "\tprog = \"server.py\"\n",
    "\tdescr = \"server side of chat room\"\n",
    "\tparser = argparse.ArgumentParser(prog=prog, description=descr)\n",
    "\tparser.add_argument(\"--ip\", type=str, required=True)\n",
    "\tparser.add_argument(\"--port\", type=int, required=True)\n",
    "\tparser.add_argument(\"-n\", \"--name\", default=\"socket chatroom\", type=str)\n",
    "\targuments = parser.parse_args()\n",
    "\tapp = chatRoom(arguments)\n",
    "\tapp.run()"
   ]
  },
  {
   "cell_type": "markdown",
   "metadata": {},
   "source": [
    "## Client Part\n",
    "Once you finish, you have to create **`chatclient.py`** and copy following content in this file.  "
   ]
  },
  {
   "cell_type": "code",
   "execution_count": null,
   "metadata": {},
   "outputs": [],
   "source": [
    "import socket \n",
    "import select \n",
    "import sys \n",
    "import argparse\n",
    "\n",
    "def main(args):\n",
    "    # create a \"client\" variable to connect to server\n",
    "    # TODO\n",
    "    \n",
    "    while True: \n",
    "        try:\n",
    "            # maintains a list of possible input streams \n",
    "            # TODO\n",
    "\n",
    "            \"\"\" There are two possible input situations. Either the \n",
    "            user wants to give manual input to send to other people, \n",
    "            or the server is sending a message to be printed on the \n",
    "            screen. Select returns from sockets_list, the stream that \n",
    "            is reader for input. So for example, if the server wants \n",
    "            to send a message, then the if condition will hold true \n",
    "            below.If the user wants to send a message, the else \n",
    "            condition will evaluate as true\"\"\"\n",
    "            # TODO\n",
    "            \n",
    "        except KeyboardInterrupt:\n",
    "            break\n",
    "    client.close() \n",
    "\n",
    "if __name__ == \"__main__\":\n",
    "    prog = \"client.py\"\n",
    "    descr = \"client side of chat room\"\n",
    "    parser = argparse.ArgumentParser(prog=prog, description=descr)\n",
    "    parser.add_argument(\"--ip\", type=str, required=True)\n",
    "    parser.add_argument(\"--port\", type=int, required=True)\n",
    "    arguments = parser.parse_args()\n",
    "    main(arguments) "
   ]
  }
 ],
 "metadata": {
  "kernelspec": {
   "display_name": "Python 3 (ipykernel)",
   "language": "python",
   "name": "python3"
  },
  "language_info": {
   "codemirror_mode": {
    "name": "ipython",
    "version": 3
   },
   "file_extension": ".py",
   "mimetype": "text/x-python",
   "name": "python",
   "nbconvert_exporter": "python",
   "pygments_lexer": "ipython3",
   "version": "3.9.12"
  },
  "toc": {
   "base_numbering": 1,
   "nav_menu": {},
   "number_sections": true,
   "sideBar": true,
   "skip_h1_title": false,
   "title_cell": "Table of Contents",
   "title_sidebar": "Contents",
   "toc_cell": false,
   "toc_position": {},
   "toc_section_display": true,
   "toc_window_display": false
  },
  "varInspector": {
   "cols": {
    "lenName": 16,
    "lenType": 16,
    "lenVar": 40
   },
   "kernels_config": {
    "python": {
     "delete_cmd_postfix": "",
     "delete_cmd_prefix": "del ",
     "library": "var_list.py",
     "varRefreshCmd": "print(var_dic_list())"
    },
    "r": {
     "delete_cmd_postfix": ") ",
     "delete_cmd_prefix": "rm(",
     "library": "var_list.r",
     "varRefreshCmd": "cat(var_dic_list()) "
    }
   },
   "types_to_exclude": [
    "module",
    "function",
    "builtin_function_or_method",
    "instance",
    "_Feature"
   ],
   "window_display": false
  }
 },
 "nbformat": 4,
 "nbformat_minor": 4
}
